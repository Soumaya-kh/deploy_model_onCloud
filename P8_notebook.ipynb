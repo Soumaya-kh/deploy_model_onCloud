{
 "cells": [
  {
   "cell_type": "code",
   "execution_count": 2,
   "id": "5ecbf67c",
   "metadata": {},
   "outputs": [],
   "source": [
    "# Fonction pour ouvrir l'image à partir de son chemin d'accès\n",
    "from PIL import Image\n",
    "\n",
    "# Librairies classiques\n",
    "import pandas as pd\n",
    "import numpy as np\n",
    "import sys\n",
    "import os\n",
    "import io\n",
    "import time\n",
    "import glob\n",
    "path_local = 'dataSample/*/'"
   ]
  },
  {
   "cell_type": "code",
   "execution_count": 3,
   "id": "d119b17e",
   "metadata": {},
   "outputs": [],
   "source": [
    "os.environ['PYSPARK_PYTHON'] = sys.executable"
   ]
  },
  {
   "cell_type": "code",
   "execution_count": 4,
   "id": "586ca5b1",
   "metadata": {},
   "outputs": [
    {
     "name": "stdout",
     "output_type": "stream",
     "text": [
      "PYSPARK_PYTHON  /home/soumaya/anaconda3/envs/openclassrooms/bin/python\n"
     ]
    }
   ],
   "source": [
    "print('PYSPARK_PYTHON ', os.environ['PYSPARK_PYTHON'])"
   ]
  },
  {
   "cell_type": "code",
   "execution_count": 5,
   "id": "15e477c2",
   "metadata": {},
   "outputs": [],
   "source": [
    "os.environ['PYSPARK_DRIVER_PYTHON'] ='/home/soumaya/anaconda3/envs/openclassrooms/bin/python'"
   ]
  },
  {
   "cell_type": "code",
   "execution_count": 6,
   "id": "30f24fac",
   "metadata": {},
   "outputs": [],
   "source": [
    "from pyspark import SparkContext, SparkConf\n",
    "from pyspark.sql import SparkSession\n",
    "from pyspark.ml.image import ImageSchema"
   ]
  },
  {
   "cell_type": "code",
   "execution_count": 7,
   "id": "1a476195",
   "metadata": {},
   "outputs": [],
   "source": [
    "def init_spark_session(path_local=''):\n",
    "    '''Initie une session SPARK avec stockage local pour le moment\n",
    "    :return SparkContext'''\n",
    "\n",
    "    path_img = path_local\n",
    "\n",
    "    # Instantiation d'une SparkSession et d'un Spark Context  \n",
    "    spark = SparkSession.builder.master('local[*]').appName('P8').getOrCreate()\n",
    "    sc = spark.sparkContext\n",
    "\n",
    "    return sc, spark, path_img\n"
   ]
  },
  {
   "cell_type": "code",
   "execution_count": 8,
   "id": "463bfaa2",
   "metadata": {},
   "outputs": [],
   "source": [
    "sc, spark, path_img = init_spark_session(path_local = path_local)\n"
   ]
  },
  {
   "cell_type": "code",
   "execution_count": 9,
   "id": "3ff0bdfe",
   "metadata": {},
   "outputs": [
    {
     "data": {
      "text/plain": [
       "'dataSample/*/'"
      ]
     },
     "execution_count": 9,
     "metadata": {},
     "output_type": "execute_result"
    }
   ],
   "source": [
    "path_img"
   ]
  },
  {
   "cell_type": "code",
   "execution_count": 9,
   "id": "5fb300bd",
   "metadata": {},
   "outputs": [
    {
     "data": {
      "text/html": [
       "\n",
       "            <div>\n",
       "                <p><b>SparkSession - in-memory</b></p>\n",
       "                \n",
       "        <div>\n",
       "            <p><b>SparkContext</b></p>\n",
       "\n",
       "            <p><a href=\"http://192.168.1.22:4040\">Spark UI</a></p>\n",
       "\n",
       "            <dl>\n",
       "              <dt>Version</dt>\n",
       "                <dd><code>v3.2.1</code></dd>\n",
       "              <dt>Master</dt>\n",
       "                <dd><code>local[*]</code></dd>\n",
       "              <dt>AppName</dt>\n",
       "                <dd><code>P8</code></dd>\n",
       "            </dl>\n",
       "        </div>\n",
       "        \n",
       "            </div>\n",
       "        "
      ],
      "text/plain": [
       "<pyspark.sql.session.SparkSession at 0x7f7a6134fe80>"
      ]
     },
     "execution_count": 9,
     "metadata": {},
     "output_type": "execute_result"
    }
   ],
   "source": [
    "spark"
   ]
  },
  {
   "cell_type": "code",
   "execution_count": 11,
   "id": "01d2199b",
   "metadata": {},
   "outputs": [],
   "source": [
    "import pyspark\n",
    "from pyspark import SQLContext\n",
    "from pyspark.ml.classification import LogisticRegression\n",
    "from pyspark.ml.image import ImageSchema\n",
    "from pyspark.sql.functions import udf, pandas_udf, PandasUDFType, col\n",
    "from pyspark.sql.functions import input_file_name\n",
    "from pyspark.sql.types import *\n",
    "from tensorflow.keras.preprocessing.image import img_to_array\n",
    "from tensorflow.keras.applications.resnet50 import ResNet50, preprocess_input"
   ]
  },
  {
   "cell_type": "code",
   "execution_count": 12,
   "id": "c1c35d11",
   "metadata": {},
   "outputs": [],
   "source": [
    "#charger les images sous format \"binaire\"\n",
    "\n",
    "df_img_binary = spark.read.format(\"binaryFile\")\\\n",
    "               .option(\"pathGlobFilter\", \"*.jpg\") \\\n",
    "               .option(\"recursiveFileLookup\", \"true\")\\\n",
    "               .load(path_img)"
   ]
  },
  {
   "cell_type": "code",
   "execution_count": 44,
   "id": "703206e4",
   "metadata": {
    "scrolled": false
   },
   "outputs": [
    {
     "data": {
      "image/png": "[encoded data removed]",
      "text/plain": [
       "<PIL.PngImagePlugin.PngImageFile image mode=RGB size=100x100 at 0x7F0D396CFD60>"
      ]
     },
     "execution_count": 44,
     "metadata": {},
     "output_type": "execute_result"
    }
   ],
   "source": [
    "byteImgIO = io.BytesIO()\n",
    "byteImg = Image.open('dataSample/Apricot/11_100.jpg')\n",
    "byteImg.save(byteImgIO, \"png\")\n",
    "byteImgIO.seek(0)\n",
    "byteImg = byteImgIO.read()\n",
    "\n",
    "\n",
    "# Non test code\n",
    "dataBytesIO = io.BytesIO(byteImg)\n",
    "Image.open(dataBytesIO)\n",
    "\n",
    "#image = Image.open(io.BytesIO(b'file:/home/soumaya/Documents/formationOpenclassrooms/deploy_cloud_model/dataSample/Apricot/11_100.jpg'))"
   ]
  },
  {
   "cell_type": "code",
   "execution_count": 45,
   "id": "65bcab4b",
   "metadata": {},
   "outputs": [],
   "source": [
    "# créer le modèle de transfer learning ResNet50\n",
    "\n",
    "model = ResNet50(include_top=False)\n",
    "bc_model_weights = sc.broadcast(model.get_weights())\n",
    "model.set_weights(bc_model_weights.value)"
   ]
  },
  {
   "cell_type": "code",
   "execution_count": 15,
   "id": "5fe3fbca",
   "metadata": {},
   "outputs": [],
   "source": [
    "# pretraitement des images (type et taille)\n",
    "\n",
    "def preprocess(content):\n",
    "    \"\"\"\n",
    "    Preprocesses raw image bytes for prediction.\n",
    "    \"\"\"\n",
    "    img = Image.open(io.BytesIO(content))\n",
    "    #img = img.convert('RGB')\n",
    "    img = img.resize([224, 224])\n",
    "    arr = img_to_array(img)\n",
    "    return preprocess_input(arr)"
   ]
  },
  {
   "cell_type": "code",
   "execution_count": 16,
   "id": "1856a763",
   "metadata": {},
   "outputs": [],
   "source": [
    "def featurize_series(model, content_series):\n",
    "    \"\"\"\n",
    "    Featurize a pd.Series of raw images using the input model.\n",
    "    :return: a pd.Series of image features\n",
    "    \"\"\"\n",
    "    input = np.stack(content_series.map(preprocess))   \n",
    "    preds = model.predict(input)\n",
    "    # For some layers, output features will be multi-dimensional tensors.\n",
    "    # We flatten the feature tensors to vectors for easier storage in Spark DataFrames.\n",
    "    output = [p.flatten() for p in preds]\n",
    "    return pd.Series(output)"
   ]
  },
  {
   "cell_type": "code",
   "execution_count": 17,
   "id": "1300bdf3",
   "metadata": {},
   "outputs": [
    {
     "name": "stderr",
     "output_type": "stream",
     "text": [
      "/home/soumaya/anaconda3/envs/openclassrooms/lib/python3.8/site-packages/pyspark/sql/pandas/functions.py:389: UserWarning: In Python 3.6+ and Spark 3.0+, it is preferred to specify type hints for pandas UDF instead of specifying pandas UDF type which will be deprecated in the future releases. See SPARK-28264 for more details.\n",
      "  warnings.warn(\n"
     ]
    }
   ],
   "source": [
    "@pandas_udf('array<float>', PandasUDFType.SCALAR_ITER)\n",
    "def featurize_udf(content_series_iter):\n",
    "    '''\n",
    "    This method is a Scalar Iterator pandas UDF wrapping our featurization function.\n",
    "    The decorator specifies that this returns a Spark DataFrame column of type ArrayType(FloatType).\n",
    "  \n",
    "    :param content_series_iter: This argument is an iterator over batches of data, where each batch\n",
    "                              is a pandas Series of image data.\n",
    "    '''\n",
    "    # With Scalar Iterator pandas UDFs, we can load the model once and then re-use it\n",
    "    # for multiple data batches.  This amortizes the overhead of loading big models.\n",
    "    for content_series in content_series_iter:\n",
    "        yield featurize_series(model, content_series)"
   ]
  },
  {
   "cell_type": "code",
   "execution_count": 18,
   "id": "e7823b7e",
   "metadata": {},
   "outputs": [],
   "source": [
    "spark.conf.set(\"spark.sql.execution.arrow.maxRecordsPerBatch\", \"1024\")"
   ]
  },
  {
   "cell_type": "code",
   "execution_count": 19,
   "id": "3a307d31",
   "metadata": {},
   "outputs": [
    {
     "name": "stdout",
     "output_type": "stream",
     "text": [
      "WARNING:tensorflow:Compiled the loaded model, but the compiled metrics have yet to be built. `model.compile_metrics` will be empty until you train or evaluate the model.\n",
      "INFO:tensorflow:Assets written to: ram://ba73ba86-abdc-4c08-b412-ceb810b5c8d4/assets\n"
     ]
    },
    {
     "name": "stderr",
     "output_type": "stream",
     "text": [
      "/home/soumaya/anaconda3/envs/openclassrooms/lib/python3.8/site-packages/keras/engine/functional.py:1410: CustomMaskWarning: Custom mask layers require a config and must override get_config. When loading, the custom mask layer must be passed to the custom_objects argument.\n",
      "  layer_config = serialize_layer_fn(layer)\n",
      "/home/soumaya/anaconda3/envs/openclassrooms/lib/python3.8/site-packages/keras/saving/saved_model/layer_serialization.py:112: CustomMaskWarning: Custom mask layers require a config and must override get_config. When loading, the custom mask layer must be passed to the custom_objects argument.\n",
      "  return generic_utils.serialize_keras_object(obj)\n"
     ]
    }
   ],
   "source": [
    "# We can now run featurization on our entire Spark DataFrame.\n",
    "features_df = df_img_binary.repartition(16).select(col(\"path\"), featurize_udf(\"content\").alias(\"features\"))"
   ]
  },
  {
   "cell_type": "markdown",
   "id": "64aebc01",
   "metadata": {},
   "source": [
    "### Réduction des dimensions des features"
   ]
  },
  {
   "cell_type": "code",
   "execution_count": 20,
   "id": "4c23144a",
   "metadata": {},
   "outputs": [],
   "source": [
    "from pyspark.ml.feature import VectorAssembler, StandardScaler, PCA\n",
    "from pyspark.ml.linalg import Vectors, VectorUDT"
   ]
  },
  {
   "cell_type": "code",
   "execution_count": 21,
   "id": "df79ba24",
   "metadata": {},
   "outputs": [],
   "source": [
    "# Les données images sont converties au format vecteur dense\n",
    "ud_f = udf(lambda r: Vectors.dense(r), VectorUDT())\n",
    "features_df = features_df.withColumn('vector_features', ud_f('features'))"
   ]
  },
  {
   "cell_type": "code",
   "execution_count": 22,
   "id": "9d2e4069",
   "metadata": {},
   "outputs": [],
   "source": [
    "# standardisation des features\n",
    "scaler = StandardScaler(\n",
    "    inputCol = 'vector_features', \n",
    "    outputCol = 'scaledFeatures')"
   ]
  },
  {
   "cell_type": "code",
   "execution_count": 23,
   "id": "ac5c63e5",
   "metadata": {},
   "outputs": [],
   "source": [
    "df_scaled = scaler.fit(features_df).transform(features_df)"
   ]
  },
  {
   "cell_type": "code",
   "execution_count": null,
   "id": "16aac310",
   "metadata": {},
   "outputs": [
    {
     "name": "stdout",
     "output_type": "stream",
     "text": [
      "ok\n"
     ]
    }
   ],
   "source": [
    "# entrainement de l'algorithme\n",
    "pca = PCA(k=2,inputCol='scaledFeatures', outputCol='pcaFeatures')\n",
    "print (\"ok\")\n",
    "pcaModel = pca.fit(df_scaled)"
   ]
  },
  {
   "cell_type": "code",
   "execution_count": null,
   "id": "cb87a88f",
   "metadata": {},
   "outputs": [],
   "source": [
    "# Calcul de la variance expliquée cumulée par les composantes\n",
    "cumValues = pcaModel.explainedVariance.cumsum() # get the cumulative values\n",
    "\n",
    "# afficher le graphe pour décider du nombre de composantes à considérer\n",
    "import matplotlib.pyplot as plt\n",
    "plt.figure(figsize=(10,8))\n",
    "plt.plot(range(1,3), cumValues, marker = 'o', linestyle='--')\n",
    "plt.title('variance by components')\n",
    "plt.xlabel('num of components')\n",
    "plt.ylabel('cumulative explained variance')\n"
   ]
  },
  {
   "cell_type": "code",
   "execution_count": null,
   "id": "dc79b275",
   "metadata": {},
   "outputs": [],
   "source": [
    "# Transformation des images sur les k (k=2) premières composantes\n",
    "df_pca = pcaModel.transform(df_scaled)\n",
    "df_pca = df_pca.filter(df_pca.pcaFeatures.isNotNull())"
   ]
  },
  {
   "cell_type": "code",
   "execution_count": null,
   "id": "23fe097f",
   "metadata": {
    "scrolled": false
   },
   "outputs": [],
   "source": [
    "# sauvegarder les features sous format parquet\n",
    "df_pca.write.mode(\"overwrite\").parquet(\"extracted_features/fruits_features\")"
   ]
  }
 ],
 "metadata": {
  "kernelspec": {
   "display_name": "Python 3",
   "language": "python",
   "name": "python3"
  },
  "language_info": {
   "codemirror_mode": {
    "name": "ipython",
    "version": 3
   },
   "file_extension": ".py",
   "mimetype": "text/x-python",
   "name": "python",
   "nbconvert_exporter": "python",
   "pygments_lexer": "ipython3",
   "version": "3.8.8"
  }
 },
 "nbformat": 4,
 "nbformat_minor": 5
}
