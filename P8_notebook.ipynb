{
 "cells": [
  {
   "cell_type": "code",
   "execution_count": 2,
   "id": "5ecbf67c",
   "metadata": {},
   "outputs": [],
   "source": [
    "# Fonction pour ouvrir l'image à partir de son chemin d'accès\n",
    "from PIL import Image\n",
    "\n",
    "# Librairies classiques\n",
    "import pandas as pd\n",
    "import numpy as np\n",
    "import sys\n",
    "import os\n",
    "import io\n",
    "import time\n",
    "import glob\n",
    "path_local = 'dataSample/*/'"
   ]
  },
  {
   "cell_type": "code",
   "execution_count": 3,
   "id": "d119b17e",
   "metadata": {},
   "outputs": [],
   "source": [
    "os.environ['PYSPARK_PYTHON'] = sys.executable"
   ]
  },
  {
   "cell_type": "code",
   "execution_count": 4,
   "id": "586ca5b1",
   "metadata": {},
   "outputs": [
    {
     "name": "stdout",
     "output_type": "stream",
     "text": [
      "PYSPARK_PYTHON  /home/soumaya/anaconda3/envs/openclassrooms/bin/python\n"
     ]
    }
   ],
   "source": [
    "print('PYSPARK_PYTHON ', os.environ['PYSPARK_PYTHON'])"
   ]
  },
  {
   "cell_type": "code",
   "execution_count": 5,
   "id": "15e477c2",
   "metadata": {},
   "outputs": [],
   "source": [
    "os.environ['PYSPARK_DRIVER_PYTHON'] ='/home/soumaya/anaconda3/envs/openclassrooms/bin/python'"
   ]
  },
  {
   "cell_type": "code",
   "execution_count": 6,
   "id": "30f24fac",
   "metadata": {},
   "outputs": [],
   "source": [
    "from pyspark import SparkContext, SparkConf\n",
    "from pyspark.sql import SparkSession\n",
    "from pyspark.ml.image import ImageSchema"
   ]
  },
  {
   "cell_type": "code",
   "execution_count": 7,
   "id": "1a476195",
   "metadata": {},
   "outputs": [],
   "source": [
    "def init_spark_session(path_local=''):\n",
    "    '''Initie une session SPARK avec stockage local pour le moment\n",
    "    :return SparkContext'''\n",
    "\n",
    "    path_img = path_local\n",
    "\n",
    "    # Instantiation d'une SparkSession et d'un Spark Context  \n",
    "    spark = SparkSession.builder.master('local[*]').appName('P8').getOrCreate()\n",
    "    sc = spark.sparkContext\n",
    "\n",
    "    return sc, spark, path_img\n"
   ]
  },
  {
   "cell_type": "code",
   "execution_count": 8,
   "id": "463bfaa2",
   "metadata": {},
   "outputs": [],
   "source": [
    "sc, spark, path_img = init_spark_session(path_local = path_local)\n"
   ]
  },
  {
   "cell_type": "code",
   "execution_count": 9,
   "id": "3ff0bdfe",
   "metadata": {},
   "outputs": [
    {
     "data": {
      "text/plain": [
       "'dataSample/*/'"
      ]
     },
     "execution_count": 9,
     "metadata": {},
     "output_type": "execute_result"
    }
   ],
   "source": [
    "path_img"
   ]
  },
  {
   "cell_type": "code",
   "execution_count": 9,
   "id": "5fb300bd",
   "metadata": {},
   "outputs": [
    {
     "data": {
      "text/html": [
       "\n",
       "            <div>\n",
       "                <p><b>SparkSession - in-memory</b></p>\n",
       "                \n",
       "        <div>\n",
       "            <p><b>SparkContext</b></p>\n",
       "\n",
       "            <p><a href=\"http://192.168.1.22:4040\">Spark UI</a></p>\n",
       "\n",
       "            <dl>\n",
       "              <dt>Version</dt>\n",
       "                <dd><code>v3.2.1</code></dd>\n",
       "              <dt>Master</dt>\n",
       "                <dd><code>local[*]</code></dd>\n",
       "              <dt>AppName</dt>\n",
       "                <dd><code>P8</code></dd>\n",
       "            </dl>\n",
       "        </div>\n",
       "        \n",
       "            </div>\n",
       "        "
      ],
      "text/plain": [
       "<pyspark.sql.session.SparkSession at 0x7f7a6134fe80>"
      ]
     },
     "execution_count": 9,
     "metadata": {},
     "output_type": "execute_result"
    }
   ],
   "source": [
    "spark"
   ]
  },
  {
   "cell_type": "code",
   "execution_count": 11,
   "id": "01d2199b",
   "metadata": {},
   "outputs": [],
   "source": [
    "import pyspark\n",
    "from pyspark import SQLContext\n",
    "from pyspark.ml.classification import LogisticRegression\n",
    "from pyspark.ml.image import ImageSchema\n",
    "from pyspark.sql.functions import udf, pandas_udf, PandasUDFType, col\n",
    "from pyspark.sql.functions import input_file_name\n",
    "from pyspark.sql.types import *\n",
    "from tensorflow.keras.preprocessing.image import img_to_array\n",
    "from tensorflow.keras.applications.resnet50 import ResNet50, preprocess_input"
   ]
  },
  {
   "cell_type": "code",
   "execution_count": 12,
   "id": "c1c35d11",
   "metadata": {},
   "outputs": [],
   "source": [
    "#charger les images sous format \"binaire\"\n",
    "\n",
    "df_img_binary = spark.read.format(\"binaryFile\")\\\n",
    "               .option(\"pathGlobFilter\", \"*.jpg\") \\\n",
    "               .option(\"recursiveFileLookup\", \"true\")\\\n",
    "               .load(path_img)"
   ]
  },
  {
   "cell_type": "code",
   "execution_count": 20,
   "id": "52e203b3",
   "metadata": {},
   "outputs": [
    {
     "data": {
      "text/plain": [
       "bytearray(b'\\xff\\xd8\\xff\\xe0\\x00\\x10JFIF\\x00\\x01\\x01\\x00\\x00\\x01\\x00\\x01\\x00\\x00\\xff\\xdb\\x00C\\x00\\x02\\x01\\x01\\x01\\x01\\x01\\x02\\x01\\x01\\x01\\x02\\x02\\x02\\x02\\x02\\x04\\x03\\x02\\x02\\x02\\x02\\x05\\x04\\x04\\x03\\x04\\x06\\x05\\x06\\x06\\x06\\x05\\x06\\x06\\x06\\x07\\t\\x08\\x06\\x07\\t\\x07\\x06\\x06\\x08\\x0b\\x08\\t\\n\\n\\n\\n\\n\\x06\\x08\\x0b\\x0c\\x0b\\n\\x0c\\t\\n\\n\\n\\xff\\xdb\\x00C\\x01\\x02\\x02\\x02\\x02\\x02\\x02\\x05\\x03\\x03\\x05\\n\\x07\\x06\\x07\\n\\n\\n\\n\\n\\n\\n\\n\\n\\n\\n\\n\\n\\n\\n\\n\\n\\n\\n\\n\\n\\n\\n\\n\\n\\n\\n\\n\\n\\n\\n\\n\\n\\n\\n\\n\\n\\n\\n\\n\\n\\n\\n\\n\\n\\n\\n\\n\\n\\n\\xff\\xc0\\x00\\x11\\x08\\x00d\\x00d\\x03\\x01\"\\x00\\x02\\x11\\x01\\x03\\x11\\x01\\xff\\xc4\\x00\\x1f\\x00\\x00\\x01\\x05\\x01\\x01\\x01\\x01\\x01\\x01\\x00\\x00\\x00\\x00\\x00\\x00\\x00\\x00\\x01\\x02\\x03\\x04\\x05\\x06\\x07\\x08\\t\\n\\x0b\\xff\\xc4\\x00\\xb5\\x10\\x00\\x02\\x01\\x03\\x03\\x02\\x04\\x03\\x05\\x05\\x04\\x04\\x00\\x00\\x01}\\x01\\x02\\x03\\x00\\x04\\x11\\x05\\x12!1A\\x06\\x13Qa\\x07\"q\\x142\\x81\\x91\\xa1\\x08#B\\xb1\\xc1\\x15R\\xd1\\xf0$3br\\x82\\t\\n\\x16\\x17\\x18\\x19\\x1a%&\\'()*456789:CDEFGHIJSTUVWXYZcdefghijstuvwxyz\\x83\\x84\\x85\\x86\\x87\\x88\\x89\\x8a\\x92\\x93\\x94\\x95\\x96\\x97\\x98\\x99\\x9a\\xa2\\xa3\\xa4\\xa5\\xa6\\xa7\\xa8\\xa9\\xaa\\xb2\\xb3\\xb4\\xb5\\xb6\\xb7\\xb8\\xb9\\xba\\xc2\\xc3\\xc4\\xc5\\xc6\\xc7\\xc8\\xc9\\xca\\xd2\\xd3\\xd4\\xd5\\xd6\\xd7\\xd8\\xd9\\xda\\xe1\\xe2\\xe3\\xe4\\xe5\\xe6\\xe7\\xe8\\xe9\\xea\\xf1\\xf2\\xf3\\xf4\\xf5\\xf6\\xf7\\xf8\\xf9\\xfa\\xff\\xc4\\x00\\x1f\\x01\\x00\\x03\\x01\\x01\\x01\\x01\\x01\\x01\\x01\\x01\\x01\\x00\\x00\\x00\\x00\\x00\\x00\\x01\\x02\\x03\\x04\\x05\\x06\\x07\\x08\\t\\n\\x0b\\xff\\xc4\\x00\\xb5\\x11\\x00\\x02\\x01\\x02\\x04\\x04\\x03\\x04\\x07\\x05\\x04\\x04\\x00\\x01\\x02w\\x00\\x01\\x02\\x03\\x11\\x04\\x05!1\\x06\\x12AQ\\x07aq\\x13\"2\\x81\\x08\\x14B\\x91\\xa1\\xb1\\xc1\\t#3R\\xf0\\x15br\\xd1\\n\\x16$4\\xe1%\\xf1\\x17\\x18\\x19\\x1a&\\'()*56789:CDEFGHIJSTUVWXYZcdefghijstuvwxyz\\x82\\x83\\x84\\x85\\x86\\x87\\x88\\x89\\x8a\\x92\\x93\\x94\\x95\\x96\\x97\\x98\\x99\\x9a\\xa2\\xa3\\xa4\\xa5\\xa6\\xa7\\xa8\\xa9\\xaa\\xb2\\xb3\\xb4\\xb5\\xb6\\xb7\\xb8\\xb9\\xba\\xc2\\xc3\\xc4\\xc5\\xc6\\xc7\\xc8\\xc9\\xca\\xd2\\xd3\\xd4\\xd5\\xd6\\xd7\\xd8\\xd9\\xda\\xe2\\xe3\\xe4\\xe5\\xe6\\xe7\\xe8\\xe9\\xea\\xf2\\xf3\\xf4\\xf5\\xf6\\xf7\\xf8\\xf9\\xfa\\xff\\xda\\x00\\x0c\\x03\\x01\\x00\\x02\\x11\\x03\\x11\\x00?\\x00\\xfd\\xf9\\xe0\\x7f\\x0fAUu}gH\\xd0t\\xe95msS\\xb6\\xb2\\xb4\\x817Msu2\\xc7\\x1cc8\\xcb3\\x10\\x07$u\\xabE\\x80\\xee:\\xfaW\\xcc\\x7f\\xf0R/\\xdb\\x1f@\\xf8\\t\\xf0\\xa2\\xfb\\xc0^\\x1b\\xbc\\xb0\\xbb\\xf1~\\xb5\\x12\\xdb\\xc7\\xa6\\xdd#\\x1f\\xb3\\xdbJ\\xb2n\\xb9\\xc6\\xdd\\xaf\\x8d\\xa1B\\xee\\x07.\\x0fl\\x1e\\\\n.\\x86\\x03\\x0b<Egh\\xc56\\xce\\x8c\\x16\\x0e\\xbe?\\x15\\x0c=\\x15yI\\xd9\\x7f]\\x97R\\x0f\\xdb\\x17\\xfe\\n\\x9f\\xf0\\x17\\xf6[\\xd3\\x7f\\xb3<={\\x0f\\x8c<A5\\x9bM\\r\\x96\\x89t\\x93Ao\\xd9|\\xf9Q\\x88\\\\\\xe0\\xfc\\xa0\\x97\\x03\\x07\\x18 \\x9f\\xce\\x1f\\x8f?\\xf0T\\xbf\\xdbW\\xe3\\x1e\\xbe\\xfa\\xe7\\x87\\xbe)_\\xf8J\\xcdw\\xfd\\x8fM\\xf0\\xd5\\xd3\\xdb$JI!]\\x97\\x06R3\\x8d\\xcd\\xcf\\x15\\xe5\\x9e#\\xb0\\xbb\\xfe\\xc8\\xb9\\xbeX\\x1ak\\x97\\x05\\x9by\\xc9rz\\x92j\\x9d\\x8e\\x8bkqd\\r\\xae6\\x85\\xef\\xceF+\\xf0\\x1c\\xf3\\xc4,\\xdb1\\x94\\x96\\x1a^\\xce\\x9d\\xec\\x94w\\xf9\\xbd\\xff\\x00$\\x7fFp\\xc7\\x87y&\\x02\\x8cjb!\\xedjur\\xdb\\xe5\\x1d\\xbe\\xfb\\xb3\\xcf|k\\x7f\\xf1\\x0b\\xe2/\\x89\\xae\\xbcc\\xf1\\x07\\xc57\\xda\\xbe\\xa1y+Kw{\\xa8L\\xd2\\xc93\\xb7Vf<\\x92}k\\x18\\xd8_\\xe8\\xb3E\\xaaiW&9\\xed\\xdbt2\\'\\x0c\\x84w\\x07\\xb5zM\\xee\\x9a\\xd1\\x82Z<s\\xd3\\x15\\xcfjzix\\x89a\\x82\\x1b\\x8e+\\xe5#\\xc49\\x84\\xa7\\xcd:\\x8f\\xef\\x7f\\xe6~\\x89\\xfd\\x93\\x80P\\xe5T\\xa2\\xa3\\xda\\xca\\xdfu\\x8f_\\xf8=\\xff\\x00\\x05~\\xfd\\xba\\xbe\\x0b\\xf8f?\\x06\\xe9\\x9f\\x15\\xff\\x00\\xb4l\\x94\\xa8\\x84\\xeb\\xf6\\x89{,(\\x10\"\\xc6\\x8f.J \\n0\\xa3\\x81[?\\x0e\\xff\\x00\\xe0\\xad\\xdf\\xb7?\\x85/.\\xb5}3\\xe3]\\xde\\xa5$\\xf1\\xf9o\\x0e\\xb7\\x08\\xbd\\x8a/\\x98\\x1d\\xc8\\x92d)\\xe3\\x19\\x1d\\x8e+\\xe5/\\x10\\xdb\\xacW\\xc66\\x03\\x07\\xa6+&\\xcb\\xc4\\x13x~\\xf1n\\x903\\x05?2\\xe7\\xef\\n\\xfa\\xcc?\\x12\\xe7U\\xe8\\xa5\\x1cD\\x93[j\\xcf\\x90\\xccx##Ru#\\x86\\x8f\\xbd\\xbe\\x8b\\xfa_#\\xf5O\\xe0o\\xfc\\x1c3{\\xa4\\xdc[\\xe8_\\xb4\\x97\\xc2o\\xb4C\\x15\\xa6\\xc9u\\xaf\\x0e8\\x13M>G\\xce\\xf0\\xb9UD\\xc6xRNq\\xc7Z\\xfd\\x04\\xfd\\x9c?j\\xbf\\x81\\xdf\\xb5g\\x83\\x8f\\x8c\\xfe\\nx\\xd6\\xdfU\\x86\\x1d\\x8b}l\\x01I\\xed$e\\r\\xb6H\\xd8\\x06\\x1dq\\xbb\\x1bI\\x07\\x04\\xe2\\xbf\\x9b\\x8f\\x12\\xea1j\\xdah\\xd5t\\xfc\\x9c\\xaf\\xcc1\\xca\\xd7G\\xfb,\\xfe\\xd8\\xdf\\x18\\xff\\x00d\\x0f\\x89v\\x9f\\x14>\\x13\\xf8\\x80\\xc1<N\\x16\\xee\\xc6bL\\x17\\xb1g\\x98\\xe5\\\\\\xf2\\x0f\\xafQ_Y\\x91\\xf1\\xbe:\\x9dEK\\x1e\\xb9\\xa3\\xdfi/\\xf3\\xfc\\xcf\\x84\\xcf<4\\xc2\\xd6\\xc3:\\xf9k\\xe5\\x96\\xfc\\xad\\xe8\\xfc\\xb5\\xd8\\xfe\\x9a\\xd7\\x04g<\\xe2\\x86\\xe3 \\x0e{f\\xbc\\x17\\xf6\\x13\\xff\\x00\\x82\\x83\\xfc\\x0f\\xfd\\xbb\\xbe\\x1f\\xc1\\xe2\\x1f\\x87\\xba\\x89\\xb3\\xf1\\r\\xad\\x8aI\\xe2O\\x0b\\xdc\\xe4\\xcd\\xa6K\\x9d\\x8d\\xf3cl\\x91\\x97\\xce\\xc7\\x18,\\xa4\\x12\\xaaIQ\\xefD\\xee\\x1c\\xd7\\xea\\xd4\\xabR\\xc4SU)\\xbb\\xc5\\xec\\xd1\\xf8\\xb5|=l-iR\\xad\\x17\\x19GF\\x9e\\xe8}\\x14QZ\\x99\\x19\\xde$\\xd7\\xb4\\xff\\x00\\x0b\\xf8z\\xff\\x00\\xc5:\\xbb8\\xb5\\xd3\\xac\\xa5\\xba\\xb91\\xa6\\xe6\\x11\\xc6\\x85\\xdb\\x03\\xb9\\xc0<W\\xe3\\x1f\\xedK\\xf1h\\xfcz\\xf8\\xef\\xae\\xfcEH\\xee#\\xb5\\xbe\\xbb#O\\xb6\\xba\\x9c\\xb9\\x82\\x11\\xc0Pz\\x01\\xd4\\xe0\\x0e3_\\xab\\xdf\\xb67\\x8f\\xac\\xbe\\x1b~\\xcc\\xde2\\xf1\\x1d\\xf5\\xac\\xb2\\xa3\\xe8\\xb2\\xd8\\xaa\\xc2@*\\xf7#\\xec\\xe8\\xdc\\xf6\\r \\'\\xd8W\\xe3\\x85\\xe2\\x19/IU\\xe4W\\xe4>+\\xe6\\xb50\\xb8\\nXH?\\x8bW\\xf2\\xd1~\\xac\\xfd[\\xc2\\xdc\\xb2\\x15\\xf1uqs_\\x0f\\xba\\xbez\\xbf\\xd0\\xc9\\xd4,\\xc1\\x85\\xe1#\\x82:\\n\\xc9\\xd1\\xec&\\xd3Y\\xed\\xcc\\x00B\\x07\\xcaq\\xc0\\x1e\\x95\\xd0\\xdd\\xc8\\x0c\\xc6\\x16^\\xfd1U\\xe6\\x9db%\\x00\\x18#\\x18\\xaf\\xc0\\xa8\\xd5\\x9c\\x1b\\x8b\\xd9\\x9f\\xd14\\x15\\xa9\\xa4\\x8ewR\\xb5\\r)1&T\\x9f\\x97\\x03\\x8a\\xc0\\xd7\\xe2\\x81m^i\\xd3aO\\x98\\xfc\\xbd\\xab\\xaf\\xbe(\\xa8\\xbe^0[\\x07\\x1e\\xb5\\xcf\\xf8\\xc82\\xdb\\x82\\xb6\\xe0\\x920X\\x1e\\x82\\xbbc\\x14\\xecu\\xc6-\\xbb\\x1eU\\xe2h,\\xae$\\x8a\\xf6\\xdf\\xe7\\xdes\\xbb<`\\xfaW\\x11\\xe2\\x98V\\tvF\\xfcg\\x8a\\xf4\\x7f\\x11\\x08\\x12\\xdfd1\\x85\\x0b\\xc3*\\x8c\\x01^i\\xe2\\xe9a\\x94I\\xb1AT\\xca\\xa8^zq_G\\x97\\xcf\\xdeQ\\xec9\\xd2rWkB\\xaf\\x875\\xa7\\xb7\\xbf\\xfe\\xcf\\x96_\\xdc\\xcd\\xf2\\x9d\\xdd\\x8d^\\xd4\\xb4\\xb1\\x05\\xdb\\xe4+)^8\\xe8k\\x95\\x82t[\\x8d\\xcc8\\x8c\\x86S\\xef]\\x8d\\xf5\\xdc\\x17\\x1a\\x0c:\\x9a\\xf5\\x91r}\\xc8\\xe2\\xbd\\xea\\xd0\\xf8f\\xba\\xfeg\\xcf\\xd5^\\xce\\xab\\x87s\\xd0\\x7f`\\x8f\\xdb_\\xc4\\xdf\\xb0\\x87\\xed)\\xa6\\xfce\\xd3m\\xe4\\xbf\\xd3U\\x9a\\xdb\\xc4\\x1a7\\x9c\\xca/l\\xdf\\xe5p6\\x91\\xfb\\xc5\\x04\\xb2\\x13\\x90\\x1b\\x04\\x83\\xd2\\xbf\\xa4\\xbf\\x87\\xfe:\\xf0\\xc7\\xc4\\xdf\\x04i\\x7f\\x10|\\x11\\xacA\\xa8i:\\xcd\\x8cwz}\\xed\\xb4\\x9b\\xa3\\x9a\\'PU\\x94\\xf7\\x15\\xfc\\x96x\\x8bQI\\xe6y\\xd0`\\x82zW\\xed\\xf7\\xfc\\x1b\\x1d\\xfbL\\xf8\\xdb\\xe3\\x1f\\xec\\x97\\xe2\\x8f\\x83>1\\x9e{\\xa8\\xfe\\x1bkpZ\\xe9\\x17\\xf73\\xbb\\xb1\\xb5\\xbaI$H\\x17q\\xc2\\xa4B=\\xaa\\x17\\x00\\x03_\\xa9pn6~\\xcd\\xe1\\xa5\\xb6\\xeb\\xcb\\xb9\\xf8\\x97\\x89\\xb9$)\\xb8\\xe6\\x14\\xf7\\xd1K\\xcf\\xb3\\xfd\\x0f\\xd3\\x1a(\\xa2\\xbe\\xec\\xfc\\x84\\xf0\\x0f\\xf8)\\xcc\\xad\\x0f\\xecY\\xe2\\xe9cl\\x11%\\x86\\t\\x1f\\xf4\\xfb\\x05~J-\\xdc\\x8b3;6I\\x1d\\xab\\xf5\\xaf\\xfe\\nr\\xaa\\xff\\x00\\xb1W\\x8bW\\xfd\\xbb\\x0f\\xfd-\\x82\\xbf#\\xa6\\xf9\\x7fx\\r\\x7f>x\\xb8\\xe4\\xf3\\x9a\\x0b\\xa7\"\\xff\\x00\\xd2\\x99\\xfb\\xd7\\x84\\xca\\x1f\\xd95[\\xdf\\x9d\\xff\\x00\\xe9(\\xa7\\x7f\\xa9y7\\xbb\\xe6\\xe8G8\\x19\\xe6\\x92}J6A\\xd4\\x81\\xd4\\x8a\\xa9\\xaa\\xc8\\x1am\\xc3\\x19\\x1dj\\xacW\\xb8\\xdd\\x18\\x00\\xe7\\x83\\x8a\\xfc\\xa1EN\\xa1\\xfbM\\x04\\xa5\\x14\\\\\\x95\\xcd\\xc3\\x95\\x89\\x94(\\xe4sX\\xde$_1\\xc8_\\xee\\xe3\\x06\\xb5m\\x85\\xb5\\xacL\\xf7\\x0b\\xc6\\xda\\xc1\\xd4.Q\\xee\\xfc\\xd3)\\xf2\\xcf\\'\\xd8W\\xa4\\xe0\\xe4\\xaf\\x14t\\xc6\\xf7\\xbfc\\x80\\xf1f\\x8b%\\xc0tY\\x08\\x00\\x92x\\xae\\x13\\xc5q\\xc7\\xa7Z\\xe20\\t \\xe5\\xb1^\\x8f\\xe3\\xedv\\xd8\\xc3 \\x81\\x82\\xa8\\xc8\\x04u?Z\\xf2o\\x15kQ\\xdc\\x93\\x1er\\t\\xe7\\x15\\xea\\xe0c\\'d\\xcd\\\\\\xa5V6\\xe8q\\x97w%o$\\x96da\\x96\\xf5\\xeb]LZ\\x80\\x97\\xc0\\xb1\\x80\\xc0\\x8f\\x98\\x0e=\\xeb\\x97\\xd5\\x04O\\x1b:\\x920x\\x07\\xadii\\xf7R\\xaf\\x85\\x9e,\\x02\\xaa\\xc7\\x1cW\\xd4I\\xf3Q^L\\xf9\\xfcrN\\xa2\\x97frZ\\xbd\\xf4jd\\x81G u=+\\xf4C\\xfe\\rP\\xf1\\x06\\xb8?n\\x8f\\x88~\\x1bK\\xd9F\\x997\\xc2\\xa9n\\x9e\\xdfq\\xd8\\xd3\\xae\\xa5b\\x8a\\xe4t\\xc8Wa\\x9fBk\\xf3SY\\x9e\\xeb\\xce\\x94\\xc8\\x02\\xe5\\x88\\x18\\xf4\\xaf\\xba?\\xe0\\xda/\\x8a\\xfa\\xbf\\x82?\\xe0\\xa5pxGJ\\x8a\\xdd\\xa0\\xf1\\x7f\\x85/\\xb4\\xcb\\xf34d\\xb2\\xc4\\x81n\\xc1B\\x08\\xda\\xdb\\xed\\xd0d\\xe7\\x82F;\\x8f\\xbf\\xe1\\xab\\xd3\\xc6\\xc3\\xfa\\xe8~u\\xe2\\x04=\\xa6IYy_\\xeeh\\xfe\\x8d(\\xa2\\x8a\\xfd0\\xfes<;\\xfe\\n)\\xe1\\xddk\\xc4\\xff\\x00\\xb2\\x07\\x8b\\xf4\\xcf\\x0f\\xe9\\xb3]\\\\,6\\xd3\\xbcP\\xc6Y\\x84q\\\\\\xc5$\\x8f\\x81\\xd9QY\\x89\\xec\\x015\\xf9\\x01\\xa9\\xed\\x82<\\xab\\x82\\x01\\xe7\\xfc+\\xf7\\x0b\\xe3\\x96\\x9bw\\xad\\xfc\\x15\\xf1~\\x8f\\xa7\\xda\\xc9=\\xc5\\xd7\\x85\\xef\\xe2\\xb7\\x82\\x14,\\xf2;[\\xc8\\x15T\\x0eI$\\x80\\x00\\xeb_\\x86\\xde&\\xb3\\xbe\\xb1\\x9e\\xe2\\xd2\\xe6\\xdd\\xa2x\\xa4+\"8\\xc1R\\x0e\\x08\\xc1\\xef_\\x8a\\xf8\\xad\\x83N\\xad\\x0cE\\xbe\\xcb_s\\xba\\xfc\\xcf\\xd9\\xbc(\\xc58\\xd2\\xafF\\xfbI?\\xbd[\\xf41\\xf5\\x18\\xd8+\\x95|s\\x9c\\xfaVo\\x97rba\\x92\\x1bq\\xe7\\x1dj\\xf4\\xe1\\xda-\\xc5[\\x15\\x0c\\x97\\x0b\\x02\\x17h\\xf1\\xc7\\x04\\xd7\\xe1\\xf1rU\\x0f\\xdf\\xe8Mr\\xdd\\x11\\xea\\x17\\x17\\x03L\\xf2\\xaeY\\xb7\\xec\\xc0\\x03\\xadr\\xda\\x93\\xddYi\\xe6(\\xa5l\\x15?3\\x0ez\\xfa\\xd6\\xf5\\xce\\xb7\\xb8\\x02\\xe8\\n\\x91\\x80\\x00\\xcds^,\\xd5\\xeda\\x8cB\\t\\'<\\xe2\\xbd\\x1a2i\\xd9=\\xcd\\xe3Q\\xad\\x0e\\x0f\\xc7\\x97\\xeb\\x05\\xb027\\x18\\xf9\\xbd\\xeb\\xccu}I\\t\" \\x17\\x1ft\\xe75\\xd7\\xfcI\\xbdW\\xdd\\x1f\\x9e\\x0f\\xa0\\xdd^g\\xa8\\xdeH\\xcd\\xb1\\xd8|\\xbd\\xf3\\xc5}V]I\\xce7.S\\xe5\\xa2\\xca\\xda\\x9e\\xa9?\\x9cp9\\xcfJ\\xe8\\xec\\xa46\\xde\\x18\\r7\\x02\\\\\\x9c\\x1f\\xa5q\\xae\\xa6\\xfa\\xf5bBr\\xce1\\xcdu\\xfe \\x94Xh\\xb1Z\\xb1\\x07l\\\\\\xe0\\xf7\\xafv\\xad4\\x94!\\xdc\\xf9\\x9cmoy$y\\xff\\x00\\x8a\\xae\\xfc\\x86\\x90c\\x9d\\xc4\\x83\\xe9_y\\x7f\\xc1\\xad\\xbf\\x0f4\\x8f\\x88\\x7f\\xf0Q\\xfd_\\xc5\\x1a\\x89\\xb9I<\\x1f\\xf0\\xfe\\xefS\\xd3\\xda\\x10\\xbe[\\xcc\\xf7\\x10Z\\x14|\\x83\\xc7\\x97r\\xec1\\x83\\x95\\x1d\\xb3_\\x9e\\xde1\\xb8o5\\x99\\x1b\\xa9\\xf5\\xaf\\xda\\x8f\\xf84\\xc7\\xf6c\\xd6|9\\xf0\\xb7\\xc7\\xdf\\xb5\\xbe\\xb1 \\x16\\x9e&\\xbc\\x1a\\x1e\\x86\\xb9C\\xb9-\\xdc5\\xc18;\\x97\\x12,`\\x02\\x009\\xc8\\xce+\\xf4\\x1e\\x18\\xa0\\xe5^2\\xb6\\xc7\\xe5\\xbe \\xe3U<\\xa2Q\\xbe\\xb3v\\xfcO\\xd8\\xca(\\xa2\\xbfA?\\x08\\x1a@\\xce+\\xf1C\\xf6\\xc5\\xf0\\x17\\xfc*\\xdf\\x8f\\xfe+\\xf0dz\\x87\\xda\\xe2\\xb3\\xd5d\\x0b3\\xc2\\x10\\xc8\\x1c\\xee\\xce2q\\xd4\\x8e\\xfd+\\xf6\\xb9\\x18Hx\\xfa\\xd7\\xe7\\xd7\\xfc\\x16\\x0f\\xf6V\\xf1\\x85\\xfd\\xf0\\xfd\\xa5|\\x1fcm6\\x97\\x05\\x9cv\\xda\\xfc0C\\xb6[r\\x18\\xed\\xb8b>\\xfa\\x92\\xdbI\\xea\\x0e\\xde\\xb9\\xe3\\xe48\\xd7+\\x9ec\\x92\\xcb\\x91^P\\xd7\\xe5\\xd7\\xf0>\\xbf\\x823H\\xe5\\xb9\\xd4T\\xdd\\xa3?u\\xfa\\xdfO\\xc4\\xfc\\xf1\\x97Q\\x8e&h[\\x9cu\\xaa\\x17\\xf7K<f(\\xd8\\xe3\\x19\\xcdR\\xd5/\\xcc2\\xb33eK\\x1e\\x95\\x9d.\\xbd\\x12\\x92\\x8d\\'n\\x07\\xa5\\x7f1\\xd7\\xc1T\\xa7U\\xab\\x1f\\xd4\\x18L\\\\%\\x04\\xeeGs{-\\xa0es\\xb7\\x07\\x03&\\xb8\\xdf\\x1b\\xeb\\xb8\\x89\\xbe\\xcf\\x08v\\xf6j\\xd6\\xf1\\x16\\xbbm\\x83\\xb8\\x9cu95\\xe7\\x9e/\\xf1\\x04\\x08\\xe5\\x95\\xc0\\x1d\\xb2k\\xa7\\x07\\x85\\x9dJ\\x8bC\\xd2U\\xe2\\xce_\\xc6\\x1a\\xae\\xe9\\x98\\xb9\\x1e\\xe3=\\xeb\\x85\\xd6o\\xb2\\xc5\\xa3b\\x17\\xbd^\\xf1w\\x88\\xa0k\\x861\\x8689b\\rrW\\x9a\\xc4\\xb7\\xb2-\\x9d\\xbf\\xdf\\x93\\x80?\\x1a\\xfd\\x03.\\xc1N\\x10\\xe6h\\xe4\\xc5\\xe3cMZ\\xe7M\\xe0\\xdbSy~\\xda\\x84\\xc3\\x10B2X\\x1e\\xa7\\xd2\\xa4\\xf1\\x8e\\xba\\xb3\\x87\\n\\xf9\\xc7Bj]0\\x8d\\x0b\\xc3\\xbff\\x91\\x86\\xe6\\x19\\'\\xde\\xb8\\xcf\\x13\\xeb\\xd0\\x98\\xd9\\x0eI\\x19\\xe8z\\xd7e\\x1a\\x12\\xc4bo\\xd1l|\\xe5lL.\\xe4\\xcc]N\\r\\x7f\\xc5z\\xd4\\x1e\\x19\\xf0\\xbe\\x8fq\\xa9jz\\x85\\xca[i\\xdau\\x94e\\xe5\\xba\\x99\\xdbj\\xc6\\x8a9ff \\x00:\\x93_\\xd6\\x9f\\xfc\\x13\\x97\\xf6]\\xb7\\xfd\\x8d\\xbfb\\xcf\\x87\\xdf\\xb3\\xeb[Y\\rCC\\xf0\\xf4\\x0b\\xae]X!T\\xbb\\xbed\\x06i\\xce\\xe0\\tfnI W\\xe0\\xa7\\xfc\\x1b\\x95\\xfb\\x17j_\\xb5g\\xed\\xf7\\xa4\\xfcd\\xd6t\\xf9\\x93\\xc3\\x1f\\nnb\\xd7.\\xaeG\\xcb\\xbfP\\x8d\\x83\\xdaF\\xacA\\x04\\x89B3/]\\x9d\\x08\\xaf\\xe9k\\x04\\x83\\x83_\\xacd\\x18?\\xabay\\x9e\\xec\\xfc\\x13\\x8e\\xf3X\\xe3\\xb3\\x15F\\x0f\\xdd\\x87\\xe6\\xff\\x00\\xc9\\x0f\\xa2\\x8a+\\xde>\\x1c+/\\xc5\\xbe\\x15\\xf0\\xff\\x00\\x8e<;{\\xe1/\\x14\\xe9\\x90\\xdfi\\xfa\\x85\\xbbCwkp\\x81\\x96D=\\xb1\\xeb\\xdc\\x1e\\xa0\\x80GJ\\xd4\\xa2\\x93I\\xab1\\xa6\\xd6\\xc7\\xe2\\xf7\\xfc\\x14[\\xfe\\t\\xe3\\xe3\\xbf\\xd9\\xa3_\\xd4\\xfcq\\xe1\\x8d\\ny\\xfc\\x0b>\\xa1\\xb7K\\xd4D\\xa2F\\x802\\xabl\\x97o)\\x86,\\xaa[\\xef\\x05\\xees_\\x14k\\xf7\\xb2YN\\xd1;\\xb2\\x91\\x9f\\x94\\x9e\\xbfJ\\xfe\\x99|K\\xe1\\xaf\\x0f\\xf8\\xcfB\\xb9\\xf0\\xcf\\x8b4k}B\\xc2\\xf2#\\x1d\\xdd\\x95\\xd4a\\xe3\\x95\\x0fPA\\xea+\\xf3\\xe3\\xf6\\xd6\\xff\\x00\\x82\\x10x;\\xe2J\\xeb^>\\xfd\\x9a\\xfcP\\x9a\\x1e\\xa8\\xe3\\xcf\\xb2\\xf0\\xbc\\xf6\\xc0Z;uh\\xd2Ps\\x1ey\\xda\\xbbv\\x8e\\x01 s_\\x9cg\\xbc\\x0fJ\\xbdG[\\x08\\xb7\\xde?\\xe5\\xfeG\\xea\\x1c1\\xc7\\xd2\\xc2\\xc5P\\xc7=\\x16\\x8a[\\xfd\\xff\\x00\\xe6~6\\xf8\\xa7\\\\\\xbb\\xdaV\\x19\\x8e\\x0f\\xafj\\xf3\\xdf\\x16]j\\r\\x11w\\x9c\\xf1\\xd7\\x9a\\xfa\\xd3\\xf6\\x82\\xff\\x00\\x82a~\\xdc\\x1f\\x05\"y|a\\xf0\\x17U\\x96\\xd1cy\\x85\\xfe\\x94c\\xbd\\x8c\\xc6\\x9fy\\x8f\\xd9\\xd9\\xd9\\x00\\x1c\\xfc\\xc0t>\\x95\\xe1\\xff\\x00\\x08\\xff\\x00b\\xbf\\x8b\\xff\\x00\\xb5\\xff\\x00\\xc4\\xab\\xdf\\x85^\\x1dk\\xad\\n\\xcfM\\xb3\\x12\\xea\\xda\\xab\\xc0wF\\xceH\\x8e0\\xa7\\xb9\\xda\\xe7\\xdb\\x03\\xd6\\xbek\\t\\xc3\\xf5(WP\\xa9\\x07\\x17~\\xa8\\xfd\\x1e\\xa7\\x18`\\x96\\x16UiT\\x8c\\x92W\\xd1\\xaf\\xf3>c\\xf1\\x97\\xc4\\x1d?I\\xbcm5\\xae\\xc3\\xdc\\xb3\\xe0\\xc0\\xa7\\x91\\x9e\\x99\\xf4\\xadO\\x03\\xdb3\\x7f\\xc4\\xde\\xe1\\xb3!\\x19P?\\x86\\xba\\x9f\\xdb\\x1f\\xfe\\t\\xe7\\xe2?\\xd9\\x0e\\xe7\\xec\\x17\\xba\\xed\\xbd\\xeaIr\\xb1\\xc7y6VGbpKq\\x80?\\x1a\\xe1\\xbc\\x1d\\xadO\\x16\\x91\\x05\\x94\\xc4\\xa3\\x90\\xaa\\x0b\\x0c\\x16c\\xd0\\x0c\\xf5\\xc9\\xe2\\xbd\\xfcV\\x06\\x10\\xa2\\xa3C]l\\xcf\\x13/\\xe2:\\xb9\\x8c\\xe5R\\xab\\xb2\\xe9\\xa9\\xd1\\xf8\\x83^\\x91\\xa2*\\xf3\\xe1z\\xe0\\x1a\\xce\\xf8i\\xf0\\xb7\\xe2g\\xed\\x13\\xf1WH\\xf83\\xf0{\\xc3\\x17Z\\xd7\\x88u\\xfb\\x91\\x06\\x9b\\xa7Y\\xc6]\\xdc\\xe4\\x02\\xc7\\x1d\\x15r\\t\\'\\x81_F\\xfe\\xc8\\x7f\\xf0H/\\xdb\\xa3\\xf6\\xd9\\xf8\\x8b\\x07\\x83t\\x7f\\x84z\\xbf\\x84t\\x97V\\x92\\xf3\\xc5\\x1e1\\xd2\\xae,l\\xed\\xe2\\x1by\\x02D\\x12JX0\\xdb\\xb1X\\x1fP\\x01#\\xf7\\xb7\\xfe\\t\\xb1\\xff\\x00\\x04\\x82\\xfd\\x99\\x7f\\xe0\\x9b\\xde\\x1eMK\\xc0\\xba_\\xf6\\xc7\\x8e/l\\x12\\x1dw\\xc5\\xf7\\xeb\\x99&`I+\\n\\x9f\\xf51\\xf3\\x8d\\xa0\\xf3\\x8c\\x9eN+\\xd5\\xc9\\xf2)\\xc9\\xa9\\xd4VG\\x81\\xc4<]C\\x0fM\\xd2\\xa1.i\\xbe\\xdb/6t\\xff\\x00\\xf0Ko\\xd8;\\xc3_\\xf0O\\x0f\\xd8\\xef\\xc3\\x1f\\x01t\\xd8-\\xa5\\xd7E\\xb0\\xbe\\xf1\\x86\\xab\\x14\\x11\\x89/\\xb59\\xbey\\x8bH\\xa32\\xa4l\\xc68\\xcb\\x12Dh\\x8b\\x9c\\n\\xfa8\\x93\\xd8R|\\xc7\\xa3f\\x94\\xf4\\xc3\\x1a\\xfbu\\x15\\x18\\xa4\\xb6G\\xe4S\\x9c\\xeaM\\xceN\\xed\\x8bE\\x14U\\x08(\\xa2\\x8a\\x00(\\xa2\\x8a\\x00\\x82xa\\xb8\\x81\\xa0\\xb8\\x89]\\x1d0\\xe8\\xe3!\\x81\\x1c\\x82\\x0fQ_\\x07x3\\xc1z\\x05\\xbf\\x83f\\xf8\\xc9id\\x90k\\xfe \\xf1V\\xa1o\\xa9\\xdd\\xdb\\xc4\\x91\\x89\\x12\\t6E\\x85U\\x00\\x10\\xacG\\xe5E\\x15\\xe4f\\xdf\\xc1_?\\xcc\\xf4\\xb2\\xcf\\xe2?U\\xfa\\x9f\\x15~\\xd3\\x7f\\x08|\\r\\xfbC~\\xd5\\xff\\x00\\x0c\\xbe\\x08\\xfcT\\xd3\\x0e\\xa1\\xa0k\\xbf\\x14\\xb4\\xdd+R\\x846\\xd7\\x96\\xd9\\xeeB\\xb2\\xee\\xc7\\x04\\x8e\\xf5\\xfa\\x87\\xf0\\xfb\\xfe\\tA\\xff\\x00\\x04\\xe9\\xf8G}\\x1e\\xaf\\xf0\\xff\\x00\\xf6J\\xf0\\xa5\\x8d\\xc4\\x17\\t<N\\xd6\\xf2M\\xb6H\\xd826%v\\x19\\x04\\x03\\xf8QEs\\xe4iJ\\x84\\xaf\\xfc\\xcc\\xac\\xd6\\xbdjsq\\x8c\\x9aV\\xee}\\r\\x0cQC\\n\\xc5\\x0cj\\x8a\\xa0*\\xaa\\x8c\\x00\\x07@*J(\\xaf|\\xf2\\xc2\\x8a(\\xa0\\x02\\x8a(\\xa0\\x0f\\xff\\xd9')"
      ]
     },
     "execution_count": 20,
     "metadata": {},
     "output_type": "execute_result"
    }
   ],
   "source": [
    "lien_img_1 = df_img_binary.collect()[0]['content']\n",
    "lien_img_1"
   ]
  },
  {
   "cell_type": "code",
   "execution_count": 31,
   "id": "85a1aeed",
   "metadata": {},
   "outputs": [
    {
     "data": {
      "text/plain": [
       "'file:/home/soumaya/Documents/formationOpenclassrooms/deploy_cloud_model/dataSample/Apricot/11_100.jpg'"
      ]
     },
     "execution_count": 31,
     "metadata": {},
     "output_type": "execute_result"
    }
   ],
   "source": [
    "str= df_img_binary.collect()[0]['path']\n",
    "str"
   ]
  },
  {
   "cell_type": "code",
   "execution_count": 42,
   "id": "7107b9d9",
   "metadata": {
    "scrolled": true
   },
   "outputs": [
    {
     "ename": "UnidentifiedImageError",
     "evalue": "cannot identify image file <_io.BytesIO object at 0x7f0d392b6b80>",
     "output_type": "error",
     "traceback": [
      "\u001b[0;31m---------------------------------------------------------------------------\u001b[0m",
      "\u001b[0;31mUnidentifiedImageError\u001b[0m                    Traceback (most recent call last)",
      "\u001b[0;32m<ipython-input-42-afcb8032e8dc>\u001b[0m in \u001b[0;36m<module>\u001b[0;34m\u001b[0m\n\u001b[0;32m----> 1\u001b[0;31m \u001b[0mimage\u001b[0m \u001b[0;34m=\u001b[0m \u001b[0mImage\u001b[0m\u001b[0;34m.\u001b[0m\u001b[0mopen\u001b[0m\u001b[0;34m(\u001b[0m\u001b[0mio\u001b[0m\u001b[0;34m.\u001b[0m\u001b[0mBytesIO\u001b[0m\u001b[0;34m(\u001b[0m\u001b[0;34mb'dataSample/Apricot/11_100.jpg'\u001b[0m\u001b[0;34m)\u001b[0m\u001b[0;34m)\u001b[0m\u001b[0;34m\u001b[0m\u001b[0;34m\u001b[0m\u001b[0m\n\u001b[0m",
      "\u001b[0;32m~/anaconda3/envs/openclassrooms/lib/python3.8/site-packages/PIL/Image.py\u001b[0m in \u001b[0;36mopen\u001b[0;34m(fp, mode, formats)\u001b[0m\n\u001b[1;32m   2965\u001b[0m     \u001b[0;32mfor\u001b[0m \u001b[0mmessage\u001b[0m \u001b[0;32min\u001b[0m \u001b[0maccept_warnings\u001b[0m\u001b[0;34m:\u001b[0m\u001b[0;34m\u001b[0m\u001b[0;34m\u001b[0m\u001b[0m\n\u001b[1;32m   2966\u001b[0m         \u001b[0mwarnings\u001b[0m\u001b[0;34m.\u001b[0m\u001b[0mwarn\u001b[0m\u001b[0;34m(\u001b[0m\u001b[0mmessage\u001b[0m\u001b[0;34m)\u001b[0m\u001b[0;34m\u001b[0m\u001b[0;34m\u001b[0m\u001b[0m\n\u001b[0;32m-> 2967\u001b[0;31m     raise UnidentifiedImageError(\n\u001b[0m\u001b[1;32m   2968\u001b[0m         \u001b[0;34m\"cannot identify image file %r\"\u001b[0m \u001b[0;34m%\u001b[0m \u001b[0;34m(\u001b[0m\u001b[0mfilename\u001b[0m \u001b[0;32mif\u001b[0m \u001b[0mfilename\u001b[0m \u001b[0;32melse\u001b[0m \u001b[0mfp\u001b[0m\u001b[0;34m)\u001b[0m\u001b[0;34m\u001b[0m\u001b[0;34m\u001b[0m\u001b[0m\n\u001b[1;32m   2969\u001b[0m     )\n",
      "\u001b[0;31mUnidentifiedImageError\u001b[0m: cannot identify image file <_io.BytesIO object at 0x7f0d392b6b80>"
     ]
    }
   ],
   "source": [
    "image = Image.open(io.BytesIO(b'dataSample/Apricot/11_100.jpg'))"
   ]
  },
  {
   "cell_type": "code",
   "execution_count": 44,
   "id": "0ae25232",
   "metadata": {
    "scrolled": false
   },
   "outputs": [
    {
     "data": {
      "image/png": "[encoded data removed]",
      "text/plain": [
       "<PIL.PngImagePlugin.PngImageFile image mode=RGB size=100x100 at 0x7F0D396CFD60>"
      ]
     },
     "execution_count": 44,
     "metadata": {},
     "output_type": "execute_result"
    }
   ],
   "source": [
    "byteImgIO = io.BytesIO()\n",
    "byteImg = Image.open('dataSample/Apricot/11_100.jpg')\n",
    "byteImg.save(byteImgIO, \"png\")\n",
    "byteImgIO.seek(0)\n",
    "byteImg = byteImgIO.read()\n",
    "\n",
    "\n",
    "# Non test code\n",
    "dataBytesIO = io.BytesIO(byteImg)\n",
    "Image.open(dataBytesIO)\n",
    "\n",
    "#image = Image.open(io.BytesIO(b'file:/home/soumaya/Documents/formationOpenclassrooms/deploy_cloud_model/dataSample/Apricot/11_100.jpg'))"
   ]
  },
  {
   "cell_type": "code",
   "execution_count": 12,
   "id": "287b81b7",
   "metadata": {},
   "outputs": [],
   "source": [
    "# charger les images sous format \"image\"\n",
    "#df_imgtype = spark.read.format(\"image\")\\\n",
    "#            .option(\"pathGlobFilter\", \"*.jpg\") \\\n",
    "#            .option(\"recursiveFileLookup\", \"true\")\\\n",
    "#            .load(path_img)"
   ]
  },
  {
   "cell_type": "code",
   "execution_count": 13,
   "id": "7ea812b6",
   "metadata": {},
   "outputs": [
    {
     "name": "stdout",
     "output_type": "stream",
     "text": [
      "(100, 100, 3)\n"
     ]
    },
    {
     "data": {
      "image/png": "[encoded data removed]",
      "text/plain": [
       "<PIL.Image.Image image mode=RGB size=100x100 at 0x7F7A613611F0>"
      ]
     },
     "execution_count": 13,
     "metadata": {},
     "output_type": "execute_result"
    }
   ],
   "source": [
    "#affichage d'une image en ytilisant la format \"image\"\n",
    "#import numpy as np\n",
    "#a = df_imgtype.first()\n",
    "#b = np.array(a.asDict()['image']['data']).reshape(100,100,3)[:,:,::-1]\n",
    "#print(b.shape)\n",
    "#Image.fromarray(b, 'RGB')"
   ]
  },
  {
   "cell_type": "code",
   "execution_count": 45,
   "id": "65bcab4b",
   "metadata": {},
   "outputs": [],
   "source": [
    "# créer le modèle de transfer learning ResNet50\n",
    "\n",
    "model = ResNet50(include_top=False)\n",
    "bc_model_weights = sc.broadcast(model.get_weights())\n",
    "model.set_weights(bc_model_weights.value)"
   ]
  },
  {
   "cell_type": "code",
   "execution_count": 15,
   "id": "5fe3fbca",
   "metadata": {},
   "outputs": [],
   "source": [
    "# pretraitement des images (type et taille)\n",
    "\n",
    "def preprocess(content):\n",
    "    \"\"\"\n",
    "    Preprocesses raw image bytes for prediction.\n",
    "    \"\"\"\n",
    "    img = Image.open(io.BytesIO(content))\n",
    "    #img = img.convert('RGB')\n",
    "    img = img.resize([224, 224])\n",
    "    arr = img_to_array(img)\n",
    "    return preprocess_input(arr)"
   ]
  },
  {
   "cell_type": "code",
   "execution_count": 16,
   "id": "1856a763",
   "metadata": {},
   "outputs": [],
   "source": [
    "def featurize_series(model, content_series):\n",
    "    \"\"\"\n",
    "    Featurize a pd.Series of raw images using the input model.\n",
    "    :return: a pd.Series of image features\n",
    "    \"\"\"\n",
    "    input = np.stack(content_series.map(preprocess))   \n",
    "    preds = model.predict(input)\n",
    "    # For some layers, output features will be multi-dimensional tensors.\n",
    "    # We flatten the feature tensors to vectors for easier storage in Spark DataFrames.\n",
    "    output = [p.flatten() for p in preds]\n",
    "    return pd.Series(output)"
   ]
  },
  {
   "cell_type": "code",
   "execution_count": 17,
   "id": "1300bdf3",
   "metadata": {},
   "outputs": [
    {
     "name": "stderr",
     "output_type": "stream",
     "text": [
      "/home/soumaya/anaconda3/envs/openclassrooms/lib/python3.8/site-packages/pyspark/sql/pandas/functions.py:389: UserWarning: In Python 3.6+ and Spark 3.0+, it is preferred to specify type hints for pandas UDF instead of specifying pandas UDF type which will be deprecated in the future releases. See SPARK-28264 for more details.\n",
      "  warnings.warn(\n"
     ]
    }
   ],
   "source": [
    "@pandas_udf('array<float>', PandasUDFType.SCALAR_ITER)\n",
    "def featurize_udf(content_series_iter):\n",
    "    '''\n",
    "    This method is a Scalar Iterator pandas UDF wrapping our featurization function.\n",
    "    The decorator specifies that this returns a Spark DataFrame column of type ArrayType(FloatType).\n",
    "  \n",
    "    :param content_series_iter: This argument is an iterator over batches of data, where each batch\n",
    "                              is a pandas Series of image data.\n",
    "    '''\n",
    "    # With Scalar Iterator pandas UDFs, we can load the model once and then re-use it\n",
    "    # for multiple data batches.  This amortizes the overhead of loading big models.\n",
    "    for content_series in content_series_iter:\n",
    "        yield featurize_series(model, content_series)"
   ]
  },
  {
   "cell_type": "code",
   "execution_count": 18,
   "id": "e7823b7e",
   "metadata": {},
   "outputs": [],
   "source": [
    "spark.conf.set(\"spark.sql.execution.arrow.maxRecordsPerBatch\", \"1024\")"
   ]
  },
  {
   "cell_type": "code",
   "execution_count": 19,
   "id": "3a307d31",
   "metadata": {},
   "outputs": [
    {
     "name": "stdout",
     "output_type": "stream",
     "text": [
      "WARNING:tensorflow:Compiled the loaded model, but the compiled metrics have yet to be built. `model.compile_metrics` will be empty until you train or evaluate the model.\n",
      "INFO:tensorflow:Assets written to: ram://ba73ba86-abdc-4c08-b412-ceb810b5c8d4/assets\n"
     ]
    },
    {
     "name": "stderr",
     "output_type": "stream",
     "text": [
      "/home/soumaya/anaconda3/envs/openclassrooms/lib/python3.8/site-packages/keras/engine/functional.py:1410: CustomMaskWarning: Custom mask layers require a config and must override get_config. When loading, the custom mask layer must be passed to the custom_objects argument.\n",
      "  layer_config = serialize_layer_fn(layer)\n",
      "/home/soumaya/anaconda3/envs/openclassrooms/lib/python3.8/site-packages/keras/saving/saved_model/layer_serialization.py:112: CustomMaskWarning: Custom mask layers require a config and must override get_config. When loading, the custom mask layer must be passed to the custom_objects argument.\n",
      "  return generic_utils.serialize_keras_object(obj)\n"
     ]
    }
   ],
   "source": [
    "# We can now run featurization on our entire Spark DataFrame.\n",
    "features_df = df_img_binary.repartition(16).select(col(\"path\"), featurize_udf(\"content\").alias(\"features\"))"
   ]
  },
  {
   "cell_type": "markdown",
   "id": "64aebc01",
   "metadata": {},
   "source": [
    "### Réduction des dimensions des features"
   ]
  },
  {
   "cell_type": "code",
   "execution_count": 20,
   "id": "4c23144a",
   "metadata": {},
   "outputs": [],
   "source": [
    "from pyspark.ml.feature import VectorAssembler, StandardScaler, PCA\n",
    "from pyspark.ml.linalg import Vectors, VectorUDT"
   ]
  },
  {
   "cell_type": "code",
   "execution_count": 21,
   "id": "df79ba24",
   "metadata": {},
   "outputs": [],
   "source": [
    "# Les données images sont converties au format vecteur dense\n",
    "ud_f = udf(lambda r: Vectors.dense(r), VectorUDT())\n",
    "features_df = features_df.withColumn('vector_features', ud_f('features'))"
   ]
  },
  {
   "cell_type": "code",
   "execution_count": 22,
   "id": "9d2e4069",
   "metadata": {},
   "outputs": [],
   "source": [
    "# standardisation des features\n",
    "scaler = StandardScaler(\n",
    "    inputCol = 'vector_features', \n",
    "    outputCol = 'scaledFeatures')"
   ]
  },
  {
   "cell_type": "code",
   "execution_count": 23,
   "id": "ac5c63e5",
   "metadata": {},
   "outputs": [],
   "source": [
    "df_scaled = scaler.fit(features_df).transform(features_df)"
   ]
  },
  {
   "cell_type": "code",
   "execution_count": null,
   "id": "16aac310",
   "metadata": {},
   "outputs": [
    {
     "name": "stdout",
     "output_type": "stream",
     "text": [
      "ok\n"
     ]
    }
   ],
   "source": [
    "# entrainement de l'algorithme\n",
    "pca = PCA(k=2,inputCol='scaledFeatures', outputCol='pcaFeatures')\n",
    "print (\"ok\")\n",
    "pcaModel = pca.fit(df_scaled)"
   ]
  },
  {
   "cell_type": "code",
   "execution_count": null,
   "id": "5ac61d8a",
   "metadata": {},
   "outputs": [],
   "source": []
  },
  {
   "cell_type": "code",
   "execution_count": null,
   "id": "cb87a88f",
   "metadata": {},
   "outputs": [],
   "source": [
    "# Calcul de la variance expliquée cumulée par les composantes\n",
    "cumValues = pcaModel.explainedVariance.cumsum() # get the cumulative values\n",
    "\n",
    "# afficher le graphe pour décider du nombre de composantes à considérer\n",
    "import matplotlib.pyplot as plt\n",
    "plt.figure(figsize=(10,8))\n",
    "plt.plot(range(1,3), cumValues, marker = 'o', linestyle='--')\n",
    "plt.title('variance by components')\n",
    "plt.xlabel('num of components')\n",
    "plt.ylabel('cumulative explained variance')\n"
   ]
  },
  {
   "cell_type": "code",
   "execution_count": null,
   "id": "dc79b275",
   "metadata": {},
   "outputs": [],
   "source": [
    "# Transformation des images sur les k (k=2) premières composantes\n",
    "df_pca = pcaModel.transform(df_scaled)\n",
    "df_pca = df_pca.filter(df_pca.pcaFeatures.isNotNull())"
   ]
  },
  {
   "cell_type": "code",
   "execution_count": null,
   "id": "23fe097f",
   "metadata": {
    "scrolled": false
   },
   "outputs": [],
   "source": [
    "# sauvegarder les features sous format parquet\n",
    "df_pca.write.mode(\"overwrite\").parquet(\"extracted_features/fruits_features\")"
   ]
  }
 ],
 "metadata": {
  "kernelspec": {
   "display_name": "Python 3",
   "language": "python",
   "name": "python3"
  },
  "language_info": {
   "codemirror_mode": {
    "name": "ipython",
    "version": 3
   },
   "file_extension": ".py",
   "mimetype": "text/x-python",
   "name": "python",
   "nbconvert_exporter": "python",
   "pygments_lexer": "ipython3",
   "version": "3.8.8"
  }
 },
 "nbformat": 4,
 "nbformat_minor": 5
}
